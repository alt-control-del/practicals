{
 "cells": [
  {
   "cell_type": "markdown",
   "id": "51eca1f9",
   "metadata": {},
   "source": [
    "Implement a program for retrieval of documents using inverted files."
   ]
  },
  {
   "cell_type": "code",
   "execution_count": 1,
   "id": "80296577",
   "metadata": {},
   "outputs": [
    {
     "name": "stderr",
     "output_type": "stream",
     "text": [
      "c:\\Users\\Tejas\\AppData\\Local\\Programs\\Python\\Python311\\Lib\\site-packages\\numpy\\_distributor_init.py:30: UserWarning: loaded more than 1 DLL from .libs:\n",
      "c:\\Users\\Tejas\\AppData\\Local\\Programs\\Python\\Python311\\Lib\\site-packages\\numpy\\.libs\\libopenblas64__v0.3.21-gcc_10_3_0.dll\n",
      "c:\\Users\\Tejas\\AppData\\Local\\Programs\\Python\\Python311\\Lib\\site-packages\\numpy\\.libs\\libopenblas64__v0.3.23-246-g3d31191b-gcc_10_3_0.dll\n",
      "  warnings.warn(\"loaded more than 1 DLL from .libs:\"\n"
     ]
    }
   ],
   "source": [
    "import nltk\n",
    "from nltk.tokenize import word_tokenize\n",
    "from collections import defaultdict"
   ]
  },
  {
   "cell_type": "code",
   "execution_count": 2,
   "id": "fef012db",
   "metadata": {},
   "outputs": [],
   "source": [
    "def build_inverted_index(documents) :\n",
    "    inverted_index = defaultdict(list)\n",
    "    for doc_id, doc in enumerate(documents) :\n",
    "        for term in set(word_tokenize(doc.lower())) :\n",
    "            inverted_index[term].append(doc_id)\n",
    "    return inverted_index"
   ]
  },
  {
   "cell_type": "code",
   "execution_count": 3,
   "id": "f3bed15a",
   "metadata": {},
   "outputs": [],
   "source": [
    "def retrieve_documents(query, inverted_index, documents) :\n",
    "    query_terms = set(word_tokenize(query.lower()))\n",
    "    matching_doc_ids = set(doc_id for term in query_terms if term in inverted_index for doc_id in inverted_index[term])\n",
    "    return[documents[doc_id] for doc_id in matching_doc_ids]"
   ]
  },
  {
   "cell_type": "code",
   "execution_count": 11,
   "id": "1360f995",
   "metadata": {},
   "outputs": [],
   "source": [
    "documents = [\n",
    "    \"This is the first document.\",\n",
    "    \"The second document is this.\",\n",
    "    \"And this is the third one.\",\n",
    "    \"Is this the forst document?\",\n",
    "]\n",
    "\n",
    "inverted_index = build_inverted_index(documents)\n",
    "query = 'document'\n",
    "# query = 'third'\n",
    "matching_documents = retrieve_documents(query,inverted_index,documents)"
   ]
  },
  {
   "cell_type": "code",
   "execution_count": 12,
   "id": "dd7dd5d7",
   "metadata": {},
   "outputs": [
    {
     "name": "stdout",
     "output_type": "stream",
     "text": [
      "Matching Documents for Query: 'document'\n",
      "This is the first document.\n",
      "The second document is this.\n",
      "Is this the forst document?\n"
     ]
    }
   ],
   "source": [
    "print(\"Matching Documents for Query: '{}'\\n{}\".format(query,'\\n'.join(matching_documents)))"
   ]
  },
  {
   "cell_type": "code",
   "execution_count": 6,
   "id": "1d591705",
   "metadata": {},
   "outputs": [
    {
     "data": {
      "text/plain": [
       "defaultdict(list,\n",
       "            {'is': [0, 1, 2, 3],\n",
       "             'this': [0, 1, 2, 3],\n",
       "             '.': [0, 1, 2],\n",
       "             'first': [0],\n",
       "             'document': [0, 1, 3],\n",
       "             'the': [0, 1, 2, 3],\n",
       "             'second': [1],\n",
       "             'one': [2],\n",
       "             'third': [2],\n",
       "             'and': [2],\n",
       "             '?': [3],\n",
       "             'forst': [3]})"
      ]
     },
     "execution_count": 6,
     "metadata": {},
     "output_type": "execute_result"
    }
   ],
   "source": [
    "inverted_index"
   ]
  },
  {
   "cell_type": "code",
   "execution_count": null,
   "id": "48616fd6",
   "metadata": {},
   "outputs": [],
   "source": []
  }
 ],
 "metadata": {
  "kernelspec": {
   "display_name": "Python 3",
   "language": "python",
   "name": "python3"
  },
  "language_info": {
   "codemirror_mode": {
    "name": "ipython",
    "version": 3
   },
   "file_extension": ".py",
   "mimetype": "text/x-python",
   "name": "python",
   "nbconvert_exporter": "python",
   "pygments_lexer": "ipython3",
   "version": "3.11.2"
  }
 },
 "nbformat": 4,
 "nbformat_minor": 5
}
